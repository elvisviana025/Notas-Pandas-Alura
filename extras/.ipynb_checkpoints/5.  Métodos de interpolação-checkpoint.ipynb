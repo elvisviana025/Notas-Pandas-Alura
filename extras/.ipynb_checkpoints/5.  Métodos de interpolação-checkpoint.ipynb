{
 "cells": [
  {
   "cell_type": "code",
   "execution_count": 41,
   "id": "9947c713",
   "metadata": {},
   "outputs": [],
   "source": [
    "import pandas as pd"
   ]
  },
  {
   "cell_type": "code",
   "execution_count": 42,
   "id": "c4394b90",
   "metadata": {},
   "outputs": [
    {
     "data": {
      "text/plain": [
       "0     0.50\n",
       "1      NaN\n",
       "2      NaN\n",
       "3     0.52\n",
       "4     0.54\n",
       "5      NaN\n",
       "6      NaN\n",
       "7     0.59\n",
       "8     0.60\n",
       "9      NaN\n",
       "10    0.70\n",
       "dtype: float64"
      ]
     },
     "execution_count": 42,
     "metadata": {},
     "output_type": "execute_result"
    }
   ],
   "source": [
    "data = [0.5, None, None, 0.52, 0.54, None, None, 0.59, 0.6, None, 0.7]\n",
    "s = pd.Series(data)\n",
    "s"
   ]
  },
  {
   "cell_type": "markdown",
   "id": "ca2028dc",
   "metadata": {},
   "source": [
    "# Métodos de interpolação"
   ]
  },
  {
   "cell_type": "code",
   "execution_count": 48,
   "id": "58a4b039",
   "metadata": {},
   "outputs": [
    {
     "data": {
      "text/plain": [
       "0      0.50\n",
       "1     99.00\n",
       "2     99.00\n",
       "3      0.52\n",
       "4      0.54\n",
       "5     99.00\n",
       "6     99.00\n",
       "7      0.59\n",
       "8      0.60\n",
       "9     99.00\n",
       "10     0.70\n",
       "dtype: float64"
      ]
     },
     "execution_count": 48,
     "metadata": {},
     "output_type": "execute_result"
    }
   ],
   "source": [
    "# preenche as linhas nulas com o VALOR ENTRE PARÊNTESES\n",
    "s.fillna(99)"
   ]
  },
  {
   "cell_type": "code",
   "execution_count": 44,
   "id": "c08c6bca",
   "metadata": {},
   "outputs": [
    {
     "data": {
      "text/plain": [
       "0     0.50\n",
       "1     0.50\n",
       "2     0.50\n",
       "3     0.52\n",
       "4     0.54\n",
       "5     0.54\n",
       "6     0.54\n",
       "7     0.59\n",
       "8     0.60\n",
       "9     0.60\n",
       "10    0.70\n",
       "dtype: float64"
      ]
     },
     "execution_count": 44,
     "metadata": {},
     "output_type": "execute_result"
    }
   ],
   "source": [
    "# preenche as linhas nulas com o valor da linha de CIMA\n",
    "s.fillna(method = 'ffill')"
   ]
  },
  {
   "cell_type": "code",
   "execution_count": 45,
   "id": "42a73849",
   "metadata": {},
   "outputs": [
    {
     "data": {
      "text/plain": [
       "0     0.50\n",
       "1     0.52\n",
       "2     0.52\n",
       "3     0.52\n",
       "4     0.54\n",
       "5     0.59\n",
       "6     0.59\n",
       "7     0.59\n",
       "8     0.60\n",
       "9     0.70\n",
       "10    0.70\n",
       "dtype: float64"
      ]
     },
     "execution_count": 45,
     "metadata": {},
     "output_type": "execute_result"
    }
   ],
   "source": [
    "# preenche as linhas nulas com o valor da linha de BAIXO\n",
    "s.fillna(method = 'bfill')"
   ]
  },
  {
   "cell_type": "code",
   "execution_count": 49,
   "id": "299e1376",
   "metadata": {},
   "outputs": [
    {
     "data": {
      "text/plain": [
       "0     0.500\n",
       "1     0.575\n",
       "2     0.575\n",
       "3     0.520\n",
       "4     0.540\n",
       "5     0.575\n",
       "6     0.575\n",
       "7     0.590\n",
       "8     0.600\n",
       "9     0.575\n",
       "10    0.700\n",
       "dtype: float64"
      ]
     },
     "execution_count": 49,
     "metadata": {},
     "output_type": "execute_result"
    }
   ],
   "source": [
    "# preenche as linhas nulas com o valor da MÉDIA DOS VALORES (não nulos)\n",
    "s.fillna(s.mean())"
   ]
  },
  {
   "cell_type": "code",
   "execution_count": 50,
   "id": "99c138da",
   "metadata": {},
   "outputs": [
    {
     "data": {
      "text/plain": [
       "0     0.50\n",
       "1     0.50\n",
       "2      NaN\n",
       "3     0.52\n",
       "4     0.54\n",
       "5     0.54\n",
       "6      NaN\n",
       "7     0.59\n",
       "8     0.60\n",
       "9     0.60\n",
       "10    0.70\n",
       "dtype: float64"
      ]
     },
     "execution_count": 50,
     "metadata": {},
     "output_type": "execute_result"
    }
   ],
   "source": [
    "# coloca um limite de quantas linhas serão interpoladas\n",
    "s.fillna(method = 'ffill', limit = 1)"
   ]
  },
  {
   "cell_type": "code",
   "execution_count": null,
   "id": "fa5438db",
   "metadata": {},
   "outputs": [],
   "source": []
  }
 ],
 "metadata": {
  "kernelspec": {
   "display_name": "Python 3 (ipykernel)",
   "language": "python",
   "name": "python3"
  },
  "language_info": {
   "codemirror_mode": {
    "name": "ipython",
    "version": 3
   },
   "file_extension": ".py",
   "mimetype": "text/x-python",
   "name": "python",
   "nbconvert_exporter": "python",
   "pygments_lexer": "ipython3",
   "version": "3.9.12"
  }
 },
 "nbformat": 4,
 "nbformat_minor": 5
}
